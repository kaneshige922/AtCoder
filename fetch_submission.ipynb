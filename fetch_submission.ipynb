{
 "cells": [
  {
   "cell_type": "code",
   "execution_count": 41,
   "metadata": {},
   "outputs": [],
   "source": [
    "import requests\n",
    "import json"
   ]
  },
  {
   "cell_type": "code",
   "execution_count": 42,
   "metadata": {},
   "outputs": [],
   "source": [
    "userID = \"kaneshige\"\n",
    "api_path = \"https://kenkoooo.com/atcoder/atcoder-api/results?user=\""
   ]
  },
  {
   "cell_type": "code",
   "execution_count": 43,
   "metadata": {},
   "outputs": [],
   "source": [
    "# APIを用いた提出データの取得\n",
    "def getSubmissionData(userID):\n",
    "    api_url = api_path + userID\n",
    "    response = requests.get(api_url)\n",
    "    jsonData = response.json()\n",
    "    return jsonData"
   ]
  },
  {
   "cell_type": "code",
   "execution_count": 44,
   "metadata": {},
   "outputs": [
    {
     "data": {
      "text/plain": [
       "[{'id': 25295913,\n",
       "  'epoch_second': 1629716078,\n",
       "  'problem_id': 'abc141_d',\n",
       "  'contest_id': 'abc141',\n",
       "  'user_id': 'kaneshige',\n",
       "  'language': 'PyPy3 (7.3.0)',\n",
       "  'point': 0.0,\n",
       "  'length': 1016,\n",
       "  'result': 'RE',\n",
       "  'execution_time': 129},\n",
       " {'id': 25747481,\n",
       "  'epoch_second': 1631361762,\n",
       "  'problem_id': 'abc218_a',\n",
       "  'contest_id': 'abc218',\n",
       "  'user_id': 'kaneshige',\n",
       "  'language': 'PyPy3 (7.3.0)',\n",
       "  'point': 100.0,\n",
       "  'length': 92,\n",
       "  'result': 'AC',\n",
       "  'execution_time': 61}]"
      ]
     },
     "execution_count": 44,
     "metadata": {},
     "output_type": "execute_result"
    }
   ],
   "source": [
    "submissions = getSubmissionData(userID)\n",
    "submissions[:2]"
   ]
  },
  {
   "cell_type": "code",
   "execution_count": 45,
   "metadata": {},
   "outputs": [],
   "source": [
    "# 各問題において最も新しいAC提出のみを取得する\n",
    "# 各コンテストごとにまとめて返す\n",
    "def collectNewestAcceptedSubmissions(submissions):\n",
    "    sortedData = sorted(submissions, key=lambda x: x['id'])  # IDで昇順ソートすると古い順になる\n",
    "    submits = {} # 各問題ごとに最新の提出に更新する\n",
    "    for data in sortedData:\n",
    "        if data[\"result\"] != \"AC\": # ACだった提出だけ対象\n",
    "            continue\n",
    "        submits[data[\"problem_id\"]] = data\n",
    "    \n",
    "    result = {} # コンテストごとにまとめる\n",
    "    for sub in submits.values():\n",
    "        if not sub[\"contest_id\"] in result:\n",
    "            result[sub[\"contest_id\"]] = []\n",
    "        result[sub[\"contest_id\"]].append(sub)\n",
    "    return result"
   ]
  },
  {
   "cell_type": "code",
   "execution_count": 46,
   "metadata": {},
   "outputs": [
    {
     "data": {
      "text/plain": [
       "{'id': 27659553,\n",
       " 'epoch_second': 1638534801,\n",
       " 'problem_id': 'abc230_b',\n",
       " 'contest_id': 'abc230',\n",
       " 'user_id': 'kaneshige',\n",
       " 'language': 'PyPy3 (7.3.0)',\n",
       " 'point': 200.0,\n",
       " 'length': 715,\n",
       " 'result': 'AC',\n",
       " 'execution_time': 66}"
      ]
     },
     "execution_count": 46,
     "metadata": {},
     "output_type": "execute_result"
    }
   ],
   "source": [
    "newestSubmits =  collectNewestAcceptedSubmissions(submissions)\n",
    "newestSubmits[\"abc230\"][2]"
   ]
  },
  {
   "cell_type": "code",
   "execution_count": 47,
   "metadata": {},
   "outputs": [],
   "source": [
    "import os"
   ]
  },
  {
   "cell_type": "code",
   "execution_count": 48,
   "metadata": {},
   "outputs": [],
   "source": [
    "root = \"submissions/\"\n",
    "\n",
    "for contestName in newestSubmits:\n",
    "    path = root + contestName\n",
    "    os.makedirs(path, exist_ok=True)"
   ]
  },
  {
   "cell_type": "code",
   "execution_count": 49,
   "metadata": {},
   "outputs": [],
   "source": [
    "import re\n",
    "import html\n",
    "import chromedriver_binary\n",
    "from selenium import webdriver\n",
    "from time import sleep\n",
    "import subprocess"
   ]
  },
  {
   "cell_type": "code",
   "execution_count": 50,
   "metadata": {},
   "outputs": [
    {
     "name": "stderr",
     "output_type": "stream",
     "text": [
      "C:\\Users\\tange\\AppData\\Local\\Temp/ipykernel_10164/3482802820.py:32: DeprecationWarning: find_element_by_* commands are deprecated. Please use find_element() instead\n",
      "  code = driver.find_element_by_id(\"submission-code\")\n"
     ]
    }
   ],
   "source": [
    "driver = webdriver.Chrome()\n",
    "\n",
    "# 追加したファイルの数を増やす\n",
    "add_cnt = 0\n",
    "\n",
    "for submissions in newestSubmits.values():\n",
    "    for sub in submissions:\n",
    "        # 問題番号の取得\n",
    "        problem_num = sub[\"problem_id\"][-1]\n",
    "        \n",
    "        # 古い問題の場合には数字になっているので、アルファベットに戻す\n",
    "        if problem_num.isdigit():\n",
    "            problem_num = chr(int(problem_num)+ord('a')-1)\n",
    "        \n",
    "        # 作成するファイルへのパス\n",
    "        path = root + sub[\"contest_id\"] + \"/\" + problem_num\n",
    "        # 拡張子の設定（C++, Pythonのみ）\n",
    "        if \"C++\" in sub[\"language\"]:\n",
    "            continue\n",
    "            #path += \".cpp\"\n",
    "        elif \"Python\" in sub[\"language\"] or \"PyPy\" in sub[\"language\"]:\n",
    "            path += \".py\"\n",
    "        \n",
    "        # 既に提出コードがある場合は取得せず、次の問題の提出を探す\n",
    "        if os.path.isfile(path): continue\n",
    "        \n",
    "        # 提出ページへアクセス\n",
    "        sub_url = \"https://atcoder.jp/contests/\" + sub[\"contest_id\"] + \"/submissions/\" + str(sub[\"id\"])\n",
    "        driver.get(sub_url)\n",
    "        \n",
    "        # 提出コードの取得\n",
    "        code = driver.find_element_by_id(\"submission-code\") \n",
    "        \n",
    "        # code.text は提出時に含めていない空白が期待に反して含まれてしまう\n",
    "        # 空白はシンタックスハイライティングによるものであるように見える\n",
    "        # innerHTML から不要なタグなどを消し、空白が意図通りのテキストを得る\n",
    "        inner_html = code.get_attribute('innerHTML')\n",
    "        list_items = re.findall(r'<li[^>]*>.*?</li>', inner_html)\n",
    "        lines = []\n",
    "        for li in list_items:\n",
    "            line1 = re.sub(r'<[^>]+>', '', li)\n",
    "            line2 = re.sub(r'&nbsp;', '', line1)\n",
    "            line3 = html.unescape(line2)\n",
    "            lines.append(line3 + \"\\n\")\n",
    "        code_text = ''.join(lines)\n",
    "            \n",
    "        # 書き込み\n",
    "        with open(path, 'w') as f:\n",
    "            f.write(code_text)\n",
    "        \n",
    "        # C++の場合にはclang-formatを使ってフォーマットする\n",
    "        #if \"C++\" in sub[\"language\"]:\n",
    "        #    subprocess.call([\"clang-format\", \"-i\",  \"-style=file\", path])\n",
    "        \n",
    "        # 追加したファイルの数を増やす\n",
    "        add_cnt += 1\n",
    "            \n",
    "        # アクセス負荷軽減のために時間をおく(3秒)\n",
    "        sleep(3)\n",
    "        \n",
    "driver.quit()"
   ]
  },
  {
   "cell_type": "code",
   "execution_count": 51,
   "metadata": {},
   "outputs": [
    {
     "name": "stdout",
     "output_type": "stream",
     "text": [
      "532\n"
     ]
    }
   ],
   "source": [
    "print(add_cnt)"
   ]
  },
  {
   "cell_type": "code",
   "execution_count": 52,
   "metadata": {
    "scrolled": true
   },
   "outputs": [
    {
     "ename": "GitCommandError",
     "evalue": "Cmd('git') failed due to: exit code(1)\n  cmdline: git push origin main\n  stderr: 'error: src refspec main does not match any\nerror: failed to push some refs to 'https://github.com/kaneshige922/AtCoder.git''",
     "output_type": "error",
     "traceback": [
      "\u001b[1;31m---------------------------------------------------------------------------\u001b[0m",
      "\u001b[1;31mGitCommandError\u001b[0m                           Traceback (most recent call last)",
      "\u001b[1;32m~\\AppData\\Local\\Temp/ipykernel_10164/859346778.py\u001b[0m in \u001b[0;36m<module>\u001b[1;34m\u001b[0m\n\u001b[0;32m     12\u001b[0m     \u001b[0mrepo\u001b[0m\u001b[1;33m.\u001b[0m\u001b[0mgit\u001b[0m\u001b[1;33m.\u001b[0m\u001b[0madd\u001b[0m\u001b[1;33m(\u001b[0m\u001b[1;34m\"submissions/*\"\u001b[0m\u001b[1;33m)\u001b[0m\u001b[1;33m\u001b[0m\u001b[1;33m\u001b[0m\u001b[0m\n\u001b[0;32m     13\u001b[0m     \u001b[0mrepo\u001b[0m\u001b[1;33m.\u001b[0m\u001b[0mgit\u001b[0m\u001b[1;33m.\u001b[0m\u001b[0mcommit\u001b[0m\u001b[1;33m(\u001b[0m\u001b[1;34m\"submissions/*\"\u001b[0m\u001b[1;33m,\u001b[0m \u001b[0mmessage\u001b[0m\u001b[1;33m=\u001b[0m\u001b[1;34m\"add submission: \"\u001b[0m \u001b[1;33m+\u001b[0m \u001b[0mdt_now\u001b[0m\u001b[1;33m.\u001b[0m\u001b[0mstrftime\u001b[0m\u001b[1;33m(\u001b[0m\u001b[1;34m'%Y/%m/%d %H:%M:%S'\u001b[0m\u001b[1;33m)\u001b[0m\u001b[1;33m)\u001b[0m\u001b[1;33m\u001b[0m\u001b[1;33m\u001b[0m\u001b[0m\n\u001b[1;32m---> 14\u001b[1;33m     \u001b[0mrepo\u001b[0m\u001b[1;33m.\u001b[0m\u001b[0mgit\u001b[0m\u001b[1;33m.\u001b[0m\u001b[0mpush\u001b[0m\u001b[1;33m(\u001b[0m\u001b[1;34m\"origin\"\u001b[0m\u001b[1;33m,\u001b[0m \u001b[1;34m\"main\"\u001b[0m\u001b[1;33m)\u001b[0m\u001b[1;33m\u001b[0m\u001b[1;33m\u001b[0m\u001b[0m\n\u001b[0m\u001b[0;32m     15\u001b[0m \u001b[1;33m\u001b[0m\u001b[0m\n\u001b[0;32m     16\u001b[0m     \u001b[0mprint\u001b[0m\u001b[1;33m(\u001b[0m\u001b[1;34mf\"Finished process, added {add_cnt} files\"\u001b[0m\u001b[1;33m)\u001b[0m\u001b[1;33m\u001b[0m\u001b[1;33m\u001b[0m\u001b[0m\n",
      "\u001b[1;32m~\\AppData\\Local\\Programs\\Python\\Python310\\lib\\site-packages\\git\\cmd.py\u001b[0m in \u001b[0;36m<lambda>\u001b[1;34m(*args, **kwargs)\u001b[0m\n\u001b[0;32m    636\u001b[0m         \u001b[1;32mif\u001b[0m \u001b[0mname\u001b[0m\u001b[1;33m[\u001b[0m\u001b[1;36m0\u001b[0m\u001b[1;33m]\u001b[0m \u001b[1;33m==\u001b[0m \u001b[1;34m'_'\u001b[0m\u001b[1;33m:\u001b[0m\u001b[1;33m\u001b[0m\u001b[1;33m\u001b[0m\u001b[0m\n\u001b[0;32m    637\u001b[0m             \u001b[1;32mreturn\u001b[0m \u001b[0mLazyMixin\u001b[0m\u001b[1;33m.\u001b[0m\u001b[0m__getattr__\u001b[0m\u001b[1;33m(\u001b[0m\u001b[0mself\u001b[0m\u001b[1;33m,\u001b[0m \u001b[0mname\u001b[0m\u001b[1;33m)\u001b[0m\u001b[1;33m\u001b[0m\u001b[1;33m\u001b[0m\u001b[0m\n\u001b[1;32m--> 638\u001b[1;33m         \u001b[1;32mreturn\u001b[0m \u001b[1;32mlambda\u001b[0m \u001b[1;33m*\u001b[0m\u001b[0margs\u001b[0m\u001b[1;33m,\u001b[0m \u001b[1;33m**\u001b[0m\u001b[0mkwargs\u001b[0m\u001b[1;33m:\u001b[0m \u001b[0mself\u001b[0m\u001b[1;33m.\u001b[0m\u001b[0m_call_process\u001b[0m\u001b[1;33m(\u001b[0m\u001b[0mname\u001b[0m\u001b[1;33m,\u001b[0m \u001b[1;33m*\u001b[0m\u001b[0margs\u001b[0m\u001b[1;33m,\u001b[0m \u001b[1;33m**\u001b[0m\u001b[0mkwargs\u001b[0m\u001b[1;33m)\u001b[0m\u001b[1;33m\u001b[0m\u001b[1;33m\u001b[0m\u001b[0m\n\u001b[0m\u001b[0;32m    639\u001b[0m \u001b[1;33m\u001b[0m\u001b[0m\n\u001b[0;32m    640\u001b[0m     \u001b[1;32mdef\u001b[0m \u001b[0mset_persistent_git_options\u001b[0m\u001b[1;33m(\u001b[0m\u001b[0mself\u001b[0m\u001b[1;33m,\u001b[0m \u001b[1;33m**\u001b[0m\u001b[0mkwargs\u001b[0m\u001b[1;33m:\u001b[0m \u001b[0mAny\u001b[0m\u001b[1;33m)\u001b[0m \u001b[1;33m->\u001b[0m \u001b[1;32mNone\u001b[0m\u001b[1;33m:\u001b[0m\u001b[1;33m\u001b[0m\u001b[1;33m\u001b[0m\u001b[0m\n",
      "\u001b[1;32m~\\AppData\\Local\\Programs\\Python\\Python310\\lib\\site-packages\\git\\cmd.py\u001b[0m in \u001b[0;36m_call_process\u001b[1;34m(self, method, *args, **kwargs)\u001b[0m\n\u001b[0;32m   1181\u001b[0m         \u001b[0mcall\u001b[0m\u001b[1;33m.\u001b[0m\u001b[0mextend\u001b[0m\u001b[1;33m(\u001b[0m\u001b[0margs_list\u001b[0m\u001b[1;33m)\u001b[0m\u001b[1;33m\u001b[0m\u001b[1;33m\u001b[0m\u001b[0m\n\u001b[0;32m   1182\u001b[0m \u001b[1;33m\u001b[0m\u001b[0m\n\u001b[1;32m-> 1183\u001b[1;33m         \u001b[1;32mreturn\u001b[0m \u001b[0mself\u001b[0m\u001b[1;33m.\u001b[0m\u001b[0mexecute\u001b[0m\u001b[1;33m(\u001b[0m\u001b[0mcall\u001b[0m\u001b[1;33m,\u001b[0m \u001b[1;33m**\u001b[0m\u001b[0mexec_kwargs\u001b[0m\u001b[1;33m)\u001b[0m\u001b[1;33m\u001b[0m\u001b[1;33m\u001b[0m\u001b[0m\n\u001b[0m\u001b[0;32m   1184\u001b[0m \u001b[1;33m\u001b[0m\u001b[0m\n\u001b[0;32m   1185\u001b[0m     \u001b[1;32mdef\u001b[0m \u001b[0m_parse_object_header\u001b[0m\u001b[1;33m(\u001b[0m\u001b[0mself\u001b[0m\u001b[1;33m,\u001b[0m \u001b[0mheader_line\u001b[0m\u001b[1;33m:\u001b[0m \u001b[0mstr\u001b[0m\u001b[1;33m)\u001b[0m \u001b[1;33m->\u001b[0m \u001b[0mTuple\u001b[0m\u001b[1;33m[\u001b[0m\u001b[0mstr\u001b[0m\u001b[1;33m,\u001b[0m \u001b[0mstr\u001b[0m\u001b[1;33m,\u001b[0m \u001b[0mint\u001b[0m\u001b[1;33m]\u001b[0m\u001b[1;33m:\u001b[0m\u001b[1;33m\u001b[0m\u001b[1;33m\u001b[0m\u001b[0m\n",
      "\u001b[1;32m~\\AppData\\Local\\Programs\\Python\\Python310\\lib\\site-packages\\git\\cmd.py\u001b[0m in \u001b[0;36mexecute\u001b[1;34m(self, command, istream, with_extended_output, with_exceptions, as_process, output_stream, stdout_as_string, kill_after_timeout, with_stdout, universal_newlines, shell, env, max_chunk_size, **subprocess_kwargs)\u001b[0m\n\u001b[0;32m    981\u001b[0m \u001b[1;33m\u001b[0m\u001b[0m\n\u001b[0;32m    982\u001b[0m         \u001b[1;32mif\u001b[0m \u001b[0mwith_exceptions\u001b[0m \u001b[1;32mand\u001b[0m \u001b[0mstatus\u001b[0m \u001b[1;33m!=\u001b[0m \u001b[1;36m0\u001b[0m\u001b[1;33m:\u001b[0m\u001b[1;33m\u001b[0m\u001b[1;33m\u001b[0m\u001b[0m\n\u001b[1;32m--> 983\u001b[1;33m             \u001b[1;32mraise\u001b[0m \u001b[0mGitCommandError\u001b[0m\u001b[1;33m(\u001b[0m\u001b[0mredacted_command\u001b[0m\u001b[1;33m,\u001b[0m \u001b[0mstatus\u001b[0m\u001b[1;33m,\u001b[0m \u001b[0mstderr_value\u001b[0m\u001b[1;33m,\u001b[0m \u001b[0mstdout_value\u001b[0m\u001b[1;33m)\u001b[0m\u001b[1;33m\u001b[0m\u001b[1;33m\u001b[0m\u001b[0m\n\u001b[0m\u001b[0;32m    984\u001b[0m \u001b[1;33m\u001b[0m\u001b[0m\n\u001b[0;32m    985\u001b[0m         \u001b[1;32mif\u001b[0m \u001b[0misinstance\u001b[0m\u001b[1;33m(\u001b[0m\u001b[0mstdout_value\u001b[0m\u001b[1;33m,\u001b[0m \u001b[0mbytes\u001b[0m\u001b[1;33m)\u001b[0m \u001b[1;32mand\u001b[0m \u001b[0mstdout_as_string\u001b[0m\u001b[1;33m:\u001b[0m  \u001b[1;31m# could also be output_stream\u001b[0m\u001b[1;33m\u001b[0m\u001b[1;33m\u001b[0m\u001b[0m\n",
      "\u001b[1;31mGitCommandError\u001b[0m: Cmd('git') failed due to: exit code(1)\n  cmdline: git push origin main\n  stderr: 'error: src refspec main does not match any\nerror: failed to push some refs to 'https://github.com/kaneshige922/AtCoder.git''"
     ]
    }
   ],
   "source": [
    "if add_cnt == 0:\n",
    "    # 何も追加していなければGitにアクセスしない\n",
    "    print(\"No added submissions, end process\")\n",
    "else:\n",
    "    # GitHubにプッシュ\n",
    "    import git\n",
    "    import datetime\n",
    "\n",
    "    dt_now = datetime.datetime.now()\n",
    "    repo_url = \"https://github.com/tishii2479/atcoder.git\"\n",
    "    repo = git.Repo()\n",
    "    repo.git.add(\"submissions/*\")\n",
    "    repo.git.commit(\"submissions/*\", message=\"add submission: \" + dt_now.strftime('%Y/%m/%d %H:%M:%S'))\n",
    "    repo.git.push(\"origin\", \"main\")\n",
    "\n",
    "    print(f\"Finished process, added {add_cnt} files\")"
   ]
  },
  {
   "cell_type": "code",
   "execution_count": null,
   "metadata": {},
   "outputs": [],
   "source": []
  }
 ],
 "metadata": {
  "kernelspec": {
   "display_name": "Python 3",
   "language": "python",
   "name": "python3"
  },
  "language_info": {
   "codemirror_mode": {
    "name": "ipython",
    "version": 3
   },
   "file_extension": ".py",
   "mimetype": "text/x-python",
   "name": "python",
   "nbconvert_exporter": "python",
   "pygments_lexer": "ipython3",
   "version": "3.10.0"
  }
 },
 "nbformat": 4,
 "nbformat_minor": 2
}
